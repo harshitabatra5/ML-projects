{
 "cells": [
  {
   "cell_type": "code",
   "execution_count": 34,
   "metadata": {},
   "outputs": [],
   "source": [
    "import numpy as np\n",
    "import pandas as pd"
   ]
  },
  {
   "cell_type": "code",
   "execution_count": 35,
   "metadata": {},
   "outputs": [],
   "source": [
    "sales = pd.read_csv('C:\\softwares\\python data analysis\\BusinessSales.csv')"
   ]
  },
  {
   "cell_type": "code",
   "execution_count": 36,
   "metadata": {},
   "outputs": [
    {
     "data": {
      "text/html": [
       "<div>\n",
       "<style scoped>\n",
       "    .dataframe tbody tr th:only-of-type {\n",
       "        vertical-align: middle;\n",
       "    }\n",
       "\n",
       "    .dataframe tbody tr th {\n",
       "        vertical-align: top;\n",
       "    }\n",
       "\n",
       "    .dataframe thead th {\n",
       "        text-align: right;\n",
       "    }\n",
       "</style>\n",
       "<table border=\"1\" class=\"dataframe\">\n",
       "  <thead>\n",
       "    <tr style=\"text-align: right;\">\n",
       "      <th></th>\n",
       "      <th>division</th>\n",
       "      <th>level of education</th>\n",
       "      <th>training level</th>\n",
       "      <th>work experience</th>\n",
       "      <th>salary</th>\n",
       "      <th>sales</th>\n",
       "    </tr>\n",
       "  </thead>\n",
       "  <tbody>\n",
       "    <tr>\n",
       "      <th>0</th>\n",
       "      <td>peripherals</td>\n",
       "      <td>associate's degree</td>\n",
       "      <td>1</td>\n",
       "      <td>2</td>\n",
       "      <td>66790</td>\n",
       "      <td>193711</td>\n",
       "    </tr>\n",
       "    <tr>\n",
       "      <th>1</th>\n",
       "      <td>office supplies</td>\n",
       "      <td>high school</td>\n",
       "      <td>0</td>\n",
       "      <td>4</td>\n",
       "      <td>63143</td>\n",
       "      <td>200167</td>\n",
       "    </tr>\n",
       "    <tr>\n",
       "      <th>2</th>\n",
       "      <td>printers</td>\n",
       "      <td>associate's degree</td>\n",
       "      <td>0</td>\n",
       "      <td>6</td>\n",
       "      <td>86480</td>\n",
       "      <td>274258</td>\n",
       "    </tr>\n",
       "    <tr>\n",
       "      <th>3</th>\n",
       "      <td>computer software</td>\n",
       "      <td>associate's degree</td>\n",
       "      <td>2</td>\n",
       "      <td>5</td>\n",
       "      <td>103573</td>\n",
       "      <td>358491</td>\n",
       "    </tr>\n",
       "    <tr>\n",
       "      <th>4</th>\n",
       "      <td>computer hardware</td>\n",
       "      <td>some college</td>\n",
       "      <td>1</td>\n",
       "      <td>2</td>\n",
       "      <td>72166</td>\n",
       "      <td>216003</td>\n",
       "    </tr>\n",
       "  </tbody>\n",
       "</table>\n",
       "</div>"
      ],
      "text/plain": [
       "            division  level of education  training level  work experience  \\\n",
       "0        peripherals  associate's degree               1                2   \n",
       "1    office supplies         high school               0                4   \n",
       "2           printers  associate's degree               0                6   \n",
       "3  computer software  associate's degree               2                5   \n",
       "4  computer hardware        some college               1                2   \n",
       "\n",
       "   salary   sales  \n",
       "0   66790  193711  \n",
       "1   63143  200167  \n",
       "2   86480  274258  \n",
       "3  103573  358491  \n",
       "4   72166  216003  "
      ]
     },
     "execution_count": 36,
     "metadata": {},
     "output_type": "execute_result"
    }
   ],
   "source": [
    "sales.head()\n"
   ]
  },
  {
   "cell_type": "code",
   "execution_count": 37,
   "metadata": {},
   "outputs": [
    {
     "data": {
      "text/html": [
       "<div>\n",
       "<style scoped>\n",
       "    .dataframe tbody tr th:only-of-type {\n",
       "        vertical-align: middle;\n",
       "    }\n",
       "\n",
       "    .dataframe tbody tr th {\n",
       "        vertical-align: top;\n",
       "    }\n",
       "\n",
       "    .dataframe thead th {\n",
       "        text-align: right;\n",
       "    }\n",
       "</style>\n",
       "<table border=\"1\" class=\"dataframe\">\n",
       "  <thead>\n",
       "    <tr style=\"text-align: right;\">\n",
       "      <th></th>\n",
       "      <th>training level</th>\n",
       "      <th>work experience</th>\n",
       "      <th>salary</th>\n",
       "      <th>sales</th>\n",
       "    </tr>\n",
       "  </thead>\n",
       "  <tbody>\n",
       "    <tr>\n",
       "      <th>count</th>\n",
       "      <td>1000.000000</td>\n",
       "      <td>1000.000000</td>\n",
       "      <td>1000.000000</td>\n",
       "      <td>1000.000000</td>\n",
       "    </tr>\n",
       "    <tr>\n",
       "      <th>mean</th>\n",
       "      <td>1.229000</td>\n",
       "      <td>6.079000</td>\n",
       "      <td>89862.131000</td>\n",
       "      <td>334793.255000</td>\n",
       "    </tr>\n",
       "    <tr>\n",
       "      <th>std</th>\n",
       "      <td>0.949453</td>\n",
       "      <td>2.913975</td>\n",
       "      <td>17672.253037</td>\n",
       "      <td>109864.104536</td>\n",
       "    </tr>\n",
       "    <tr>\n",
       "      <th>min</th>\n",
       "      <td>0.000000</td>\n",
       "      <td>0.000000</td>\n",
       "      <td>41539.000000</td>\n",
       "      <td>52114.000000</td>\n",
       "    </tr>\n",
       "    <tr>\n",
       "      <th>25%</th>\n",
       "      <td>0.000000</td>\n",
       "      <td>4.000000</td>\n",
       "      <td>77426.750000</td>\n",
       "      <td>256881.000000</td>\n",
       "    </tr>\n",
       "    <tr>\n",
       "      <th>50%</th>\n",
       "      <td>1.000000</td>\n",
       "      <td>6.000000</td>\n",
       "      <td>89070.000000</td>\n",
       "      <td>331629.500000</td>\n",
       "    </tr>\n",
       "    <tr>\n",
       "      <th>75%</th>\n",
       "      <td>2.000000</td>\n",
       "      <td>8.000000</td>\n",
       "      <td>101766.750000</td>\n",
       "      <td>408458.500000</td>\n",
       "    </tr>\n",
       "    <tr>\n",
       "      <th>max</th>\n",
       "      <td>3.000000</td>\n",
       "      <td>16.000000</td>\n",
       "      <td>158306.000000</td>\n",
       "      <td>772906.000000</td>\n",
       "    </tr>\n",
       "  </tbody>\n",
       "</table>\n",
       "</div>"
      ],
      "text/plain": [
       "       training level  work experience         salary          sales\n",
       "count     1000.000000      1000.000000    1000.000000    1000.000000\n",
       "mean         1.229000         6.079000   89862.131000  334793.255000\n",
       "std          0.949453         2.913975   17672.253037  109864.104536\n",
       "min          0.000000         0.000000   41539.000000   52114.000000\n",
       "25%          0.000000         4.000000   77426.750000  256881.000000\n",
       "50%          1.000000         6.000000   89070.000000  331629.500000\n",
       "75%          2.000000         8.000000  101766.750000  408458.500000\n",
       "max          3.000000        16.000000  158306.000000  772906.000000"
      ]
     },
     "execution_count": 37,
     "metadata": {},
     "output_type": "execute_result"
    }
   ],
   "source": [
    "sales.describe()\n"
   ]
  },
  {
   "cell_type": "code",
   "execution_count": 38,
   "metadata": {},
   "outputs": [],
   "source": [
    "sales.rename(columns = {'level of education':'edu'},inplace=True)"
   ]
  },
  {
   "cell_type": "code",
   "execution_count": 39,
   "metadata": {},
   "outputs": [
    {
     "name": "stdout",
     "output_type": "stream",
     "text": [
      "<class 'pandas.core.frame.DataFrame'>\n",
      "RangeIndex: 1000 entries, 0 to 999\n",
      "Data columns (total 6 columns):\n",
      " #   Column           Non-Null Count  Dtype \n",
      "---  ------           --------------  ----- \n",
      " 0   division         1000 non-null   object\n",
      " 1   edu              1000 non-null   object\n",
      " 2   training level   1000 non-null   int64 \n",
      " 3   work experience  1000 non-null   int64 \n",
      " 4   salary           1000 non-null   int64 \n",
      " 5   sales            1000 non-null   int64 \n",
      "dtypes: int64(4), object(2)\n",
      "memory usage: 47.0+ KB\n"
     ]
    }
   ],
   "source": [
    "sales.info()"
   ]
  },
  {
   "cell_type": "code",
   "execution_count": 40,
   "metadata": {},
   "outputs": [
    {
     "data": {
      "text/plain": [
       "office supplies      262\n",
       "peripherals          256\n",
       "printers             239\n",
       "computer hardware    163\n",
       "computer software     80\n",
       "Name: division, dtype: int64"
      ]
     },
     "execution_count": 40,
     "metadata": {},
     "output_type": "execute_result"
    }
   ],
   "source": [
    "sales['division'].value_counts()"
   ]
  },
  {
   "cell_type": "code",
   "execution_count": 41,
   "metadata": {},
   "outputs": [
    {
     "data": {
      "text/plain": [
       "associate's degree    429\n",
       "some college          374\n",
       "bachelor's degree      99\n",
       "high school            94\n",
       "master's degree         4\n",
       "Name: edu, dtype: int64"
      ]
     },
     "execution_count": 41,
     "metadata": {},
     "output_type": "execute_result"
    }
   ],
   "source": [
    "sales['edu'].value_counts()\n"
   ]
  },
  {
   "cell_type": "code",
   "execution_count": 42,
   "metadata": {},
   "outputs": [
    {
     "name": "stdout",
     "output_type": "stream",
     "text": [
      "<class 'pandas.core.frame.DataFrame'>\n",
      "RangeIndex: 1000 entries, 0 to 999\n",
      "Data columns (total 6 columns):\n",
      " #   Column           Non-Null Count  Dtype\n",
      "---  ------           --------------  -----\n",
      " 0   division         1000 non-null   int32\n",
      " 1   edu              1000 non-null   int32\n",
      " 2   training level   1000 non-null   int64\n",
      " 3   work experience  1000 non-null   int64\n",
      " 4   salary           1000 non-null   int64\n",
      " 5   sales            1000 non-null   int64\n",
      "dtypes: int32(2), int64(4)\n",
      "memory usage: 39.2 KB\n"
     ]
    }
   ],
   "source": [
    "from sklearn.preprocessing import LabelEncoder\n",
    "le = LabelEncoder()\n",
    "sales['division']=le.fit_transform(sales.division.values)\n",
    "sales['edu']=le.fit_transform(sales.edu.values)\n",
    "sales.info()"
   ]
  },
  {
   "cell_type": "code",
   "execution_count": 44,
   "metadata": {},
   "outputs": [],
   "source": [
    "from sklearn.model_selection import train_test_split\n",
    "X = sales.drop(columns='sales', axis=1)\n",
    "Y = sales['sales']"
   ]
  },
  {
   "cell_type": "code",
   "execution_count": 45,
   "metadata": {},
   "outputs": [],
   "source": [
    "X_train, X_test, Y_train, Y_test = train_test_split(X, Y, test_size=0.33, random_state=2729)"
   ]
  },
  {
   "cell_type": "code",
   "execution_count": 46,
   "metadata": {},
   "outputs": [
    {
     "name": "stdout",
     "output_type": "stream",
     "text": [
      "(670, 5) (330, 5) (670,) (330,)\n"
     ]
    }
   ],
   "source": [
    "print(X_train.shape, X_test.shape,Y_train.shape,Y_test.shape)"
   ]
  },
  {
   "cell_type": "code",
   "execution_count": 47,
   "metadata": {},
   "outputs": [],
   "source": [
    "from sklearn.linear_model import LinearRegression\n",
    "model = LinearRegression()"
   ]
  },
  {
   "cell_type": "code",
   "execution_count": 48,
   "metadata": {},
   "outputs": [
    {
     "data": {
      "text/html": [
       "<style>#sk-container-id-1 {color: black;background-color: white;}#sk-container-id-1 pre{padding: 0;}#sk-container-id-1 div.sk-toggleable {background-color: white;}#sk-container-id-1 label.sk-toggleable__label {cursor: pointer;display: block;width: 100%;margin-bottom: 0;padding: 0.3em;box-sizing: border-box;text-align: center;}#sk-container-id-1 label.sk-toggleable__label-arrow:before {content: \"▸\";float: left;margin-right: 0.25em;color: #696969;}#sk-container-id-1 label.sk-toggleable__label-arrow:hover:before {color: black;}#sk-container-id-1 div.sk-estimator:hover label.sk-toggleable__label-arrow:before {color: black;}#sk-container-id-1 div.sk-toggleable__content {max-height: 0;max-width: 0;overflow: hidden;text-align: left;background-color: #f0f8ff;}#sk-container-id-1 div.sk-toggleable__content pre {margin: 0.2em;color: black;border-radius: 0.25em;background-color: #f0f8ff;}#sk-container-id-1 input.sk-toggleable__control:checked~div.sk-toggleable__content {max-height: 200px;max-width: 100%;overflow: auto;}#sk-container-id-1 input.sk-toggleable__control:checked~label.sk-toggleable__label-arrow:before {content: \"▾\";}#sk-container-id-1 div.sk-estimator input.sk-toggleable__control:checked~label.sk-toggleable__label {background-color: #d4ebff;}#sk-container-id-1 div.sk-label input.sk-toggleable__control:checked~label.sk-toggleable__label {background-color: #d4ebff;}#sk-container-id-1 input.sk-hidden--visually {border: 0;clip: rect(1px 1px 1px 1px);clip: rect(1px, 1px, 1px, 1px);height: 1px;margin: -1px;overflow: hidden;padding: 0;position: absolute;width: 1px;}#sk-container-id-1 div.sk-estimator {font-family: monospace;background-color: #f0f8ff;border: 1px dotted black;border-radius: 0.25em;box-sizing: border-box;margin-bottom: 0.5em;}#sk-container-id-1 div.sk-estimator:hover {background-color: #d4ebff;}#sk-container-id-1 div.sk-parallel-item::after {content: \"\";width: 100%;border-bottom: 1px solid gray;flex-grow: 1;}#sk-container-id-1 div.sk-label:hover label.sk-toggleable__label {background-color: #d4ebff;}#sk-container-id-1 div.sk-serial::before {content: \"\";position: absolute;border-left: 1px solid gray;box-sizing: border-box;top: 0;bottom: 0;left: 50%;z-index: 0;}#sk-container-id-1 div.sk-serial {display: flex;flex-direction: column;align-items: center;background-color: white;padding-right: 0.2em;padding-left: 0.2em;position: relative;}#sk-container-id-1 div.sk-item {position: relative;z-index: 1;}#sk-container-id-1 div.sk-parallel {display: flex;align-items: stretch;justify-content: center;background-color: white;position: relative;}#sk-container-id-1 div.sk-item::before, #sk-container-id-1 div.sk-parallel-item::before {content: \"\";position: absolute;border-left: 1px solid gray;box-sizing: border-box;top: 0;bottom: 0;left: 50%;z-index: -1;}#sk-container-id-1 div.sk-parallel-item {display: flex;flex-direction: column;z-index: 1;position: relative;background-color: white;}#sk-container-id-1 div.sk-parallel-item:first-child::after {align-self: flex-end;width: 50%;}#sk-container-id-1 div.sk-parallel-item:last-child::after {align-self: flex-start;width: 50%;}#sk-container-id-1 div.sk-parallel-item:only-child::after {width: 0;}#sk-container-id-1 div.sk-dashed-wrapped {border: 1px dashed gray;margin: 0 0.4em 0.5em 0.4em;box-sizing: border-box;padding-bottom: 0.4em;background-color: white;}#sk-container-id-1 div.sk-label label {font-family: monospace;font-weight: bold;display: inline-block;line-height: 1.2em;}#sk-container-id-1 div.sk-label-container {text-align: center;}#sk-container-id-1 div.sk-container {/* jupyter's `normalize.less` sets `[hidden] { display: none; }` but bootstrap.min.css set `[hidden] { display: none !important; }` so we also need the `!important` here to be able to override the default hidden behavior on the sphinx rendered scikit-learn.org. See: https://github.com/scikit-learn/scikit-learn/issues/21755 */display: inline-block !important;position: relative;}#sk-container-id-1 div.sk-text-repr-fallback {display: none;}</style><div id=\"sk-container-id-1\" class=\"sk-top-container\"><div class=\"sk-text-repr-fallback\"><pre>LinearRegression()</pre><b>In a Jupyter environment, please rerun this cell to show the HTML representation or trust the notebook. <br />On GitHub, the HTML representation is unable to render, please try loading this page with nbviewer.org.</b></div><div class=\"sk-container\" hidden><div class=\"sk-item\"><div class=\"sk-estimator sk-toggleable\"><input class=\"sk-toggleable__control sk-hidden--visually\" id=\"sk-estimator-id-1\" type=\"checkbox\" checked><label for=\"sk-estimator-id-1\" class=\"sk-toggleable__label sk-toggleable__label-arrow\">LinearRegression</label><div class=\"sk-toggleable__content\"><pre>LinearRegression()</pre></div></div></div></div></div>"
      ],
      "text/plain": [
       "LinearRegression()"
      ]
     },
     "execution_count": 48,
     "metadata": {},
     "output_type": "execute_result"
    }
   ],
   "source": [
    "# training the Logistic Regression Model with Training Data\n",
    "model.fit(X_train, Y_train)"
   ]
  },
  {
   "cell_type": "code",
   "execution_count": 49,
   "metadata": {},
   "outputs": [
    {
     "data": {
      "text/plain": [
       "array([356491.60351734, 316858.95139789, 470838.92530882, 302892.63331838,\n",
       "       405822.81232167, 277410.98498696, 392443.92312063, 307078.18561485,\n",
       "       155475.34017606, 181549.13884961, 220786.14614249, 383878.05825653,\n",
       "       440482.49739187, 349668.94584834, 378107.62645563, 219224.95310312,\n",
       "        82395.97099293, 348367.37191298, 386617.5716843 , 242030.86405708,\n",
       "       242359.95833139, 369929.47081212, 205118.40128961, 335511.99971047,\n",
       "       238019.08308534, 329186.31245604, 308334.55889761, 282703.33726367,\n",
       "       262238.4870229 , 182302.6282061 , 144468.99126978, 242504.96118381,\n",
       "       403483.05760603, 368807.25128574, 384460.93540721, 393445.36051529,\n",
       "       374559.65214277, 328947.16161624, 319266.12412686, 390442.70303349,\n",
       "       355436.68172391, 361558.11097589, 236147.89552856, 408486.6127822 ,\n",
       "       200167.76842543, 475195.22019534, 266556.05459493, 357204.67025728,\n",
       "       163874.25324867, 433357.88174305, 366589.08701739, 344558.86465828,\n",
       "       428270.5609952 , 364176.36282029, 314845.50188517, 370182.66484726,\n",
       "       237632.03550826, 403496.47966341, 110590.55161363, 265810.55056834,\n",
       "       308776.96610703,  89658.75698479, 285212.7426925 , 421538.2079188 ,\n",
       "       531143.73956733, 458652.62710368, 312168.37529127, 389705.71490181,\n",
       "       299953.04008164, 125488.10623707, 308890.90742621, 351511.94495075,\n",
       "       535899.14517925, 366665.3397962 ,  93868.90224372, 439184.0603971 ,\n",
       "       461498.55576633, 425047.39913337, 197191.98606002, 550420.19316942,\n",
       "        75283.50350946, 349127.5004616 , 450476.82892335, 444832.05915161,\n",
       "       388963.23912049, 397319.91329983, 297024.71297974, 326298.74444348,\n",
       "       317017.85040828, 250418.02232483, 433020.8475358 , 298414.97893509,\n",
       "       335235.40198297, 225304.52741273, 309376.39095361, 224939.88437397,\n",
       "       469021.13337602, 427410.36223474, 385623.40781429, 284071.01786374,\n",
       "       389007.08403708, 425640.59448616, 232582.07366192, 282671.97025926,\n",
       "       335852.70322148, 372394.1194759 , 306080.89214468, 217876.76640903,\n",
       "       484500.26003552, 393510.99386801, 212955.33114661, 299509.95604479,\n",
       "       299823.34402408, 321362.16081998, 285960.935304  , 284224.11898855,\n",
       "       468817.9805393 , 506806.43350773, 158514.06800355, 360261.4115869 ,\n",
       "       341391.0220999 , 184791.6495694 , 352341.84163799, 428101.4058005 ,\n",
       "       388349.39574611, 333973.00123902, 322386.84494244, 384090.87128455,\n",
       "       755967.61737678, 242811.90475746, 424553.22609335, 351007.89680758,\n",
       "       103223.03230319, 297036.42229331, 416100.36738701, 316035.37624661,\n",
       "       450712.87502495, 347839.55546077, 222015.34488303, 332500.92767501,\n",
       "       229116.40653473, 402127.71133935, 303385.34876099, 349963.46295211,\n",
       "       413270.13966829, 461069.15565922, 270615.65088437, 604182.18646254,\n",
       "       355419.14042988, 403735.41439313, 259648.73694752, 344599.04699706,\n",
       "       246307.88278117, 370135.33512088, 318772.61692749, 289387.91672614,\n",
       "       547628.62567932, 342347.20394108, 255937.95997756, 542095.99858045,\n",
       "       483403.40879615, 345000.30838828, 466973.77609996, 338685.62866368,\n",
       "       527379.37753797, 222565.17241874, 387431.08524909, 467163.14235696,\n",
       "       242050.71118333, 341976.0633965 , 369605.05639203, 276938.91221486,\n",
       "       257882.71777358, 533059.08365153, 444974.19219254, 457868.5738016 ,\n",
       "       657053.82924127, 410824.87016984, 405702.21971969, 212885.03538142,\n",
       "       243475.90932765, 510805.60608872, 275282.96886678, 225287.36203745,\n",
       "       125670.41031472, 428259.59369991, 481413.42202697, 359210.17683814,\n",
       "       148214.24135724, 295682.21953442, 227784.54192255, 228897.83732491,\n",
       "       367199.00169442, 444680.57554084, 289838.03945527, 299877.65002731,\n",
       "       325877.19827247, 449908.7543337 , 443446.95734923, 496132.66982522,\n",
       "       441882.46824122, 409310.50816276, 183482.73068201, 297171.27429503,\n",
       "       232637.58033164, 350623.61351972, 311198.52238598, 221299.84082275,\n",
       "       164478.1941646 , 453289.931407  , 323927.66097117, 355373.19576963,\n",
       "       367790.09403617, 354874.88110978, 263632.25107694, 435279.78228991,\n",
       "       394000.22795941, 249135.45679846, 227516.35260905, 380193.41438467,\n",
       "       313544.37174303, 415210.88640284, 322506.40282627, 292551.93066404,\n",
       "       312630.05425126, 225703.6300091 , 319628.93742334, 469204.9132814 ,\n",
       "       187936.88923642, 387195.55537766, 582982.88946348, 151340.06648349,\n",
       "       274747.19592282, 365655.48033331, 361856.49347864, 162984.8166519 ,\n",
       "       420312.81432531, 306154.0879344 , 493433.68245258, 451772.42919195,\n",
       "       268412.47040364, 332368.10081652, 402690.17747884, 313853.25358014,\n",
       "       170773.42021777, 287871.09848774, 257485.42668916, 372965.65797502,\n",
       "       216043.46831878, 433119.68298627, 294064.82555616, 399074.98192595,\n",
       "       350353.33873124, 265437.06405131, 308607.2521898 , 387360.91770465,\n",
       "       217728.94962325, 394844.03220102, 410290.89061545, 302700.2388161 ,\n",
       "       237039.64321429, 433379.52751561, 226782.75051903, 403825.24567374,\n",
       "       406345.64870524, 481007.49217795, 242951.8381827 , 341411.93415734,\n",
       "       261068.03722374, 426764.38109386, 306424.26532963, 364478.2476689 ,\n",
       "       269244.62111548, 385037.98990468, 303676.83166847, 418599.00834173,\n",
       "       306189.29555562, 336255.93387779, 383759.98887741, 237180.13069162,\n",
       "       257351.90546716, 367815.59191628, 419393.43275743, 375848.17468276,\n",
       "       425726.74150005, 256585.01140069, 378845.37472796, 292193.06876337,\n",
       "       389091.98914037, 412655.15288045, 324978.30241055, 386862.75948922,\n",
       "       194431.04355605, 352948.86985038, 352275.85515933, 370160.81824288,\n",
       "       131624.42723451, 258601.93026829, 459625.25389644, 437863.55118396,\n",
       "       275581.43815496, 431688.05372775, 322795.69225773, 426546.70491588,\n",
       "       416465.30648735, 236316.29214617, 543528.42485247, 334547.56263234,\n",
       "       270504.39122183, 164440.86410124, 281014.1248263 , 244243.77093206,\n",
       "       390407.73785353, 287465.34451425, 283451.94067739, 271680.09099414,\n",
       "       185999.13456857, 519314.15485486, 506828.01497238, 238594.40592805,\n",
       "       130597.41458135, 315228.97676313, 497773.69359925, 572809.51245023,\n",
       "       434540.74167425,  70160.45218427, 231018.86439694, 216304.23083625,\n",
       "       245686.47092445, 423458.53612761])"
      ]
     },
     "execution_count": 49,
     "metadata": {},
     "output_type": "execute_result"
    }
   ],
   "source": [
    "y_pred=model.predict(X_test)\n",
    "y_pred"
   ]
  },
  {
   "cell_type": "code",
   "execution_count": 50,
   "metadata": {},
   "outputs": [
    {
     "data": {
      "text/plain": [
       "0.9412321574935633"
      ]
     },
     "execution_count": 50,
     "metadata": {},
     "output_type": "execute_result"
    }
   ],
   "source": [
    "model.score(X_test,Y_test)"
   ]
  },
  {
   "cell_type": "code",
   "execution_count": 51,
   "metadata": {},
   "outputs": [],
   "source": [
    "from sklearn.metrics import mean_absolute_error, mean_absolute_percentage_error, mean_squared_error"
   ]
  },
  {
   "cell_type": "code",
   "execution_count": 52,
   "metadata": {},
   "outputs": [
    {
     "data": {
      "text/plain": [
       "0.06715846921873574"
      ]
     },
     "execution_count": 52,
     "metadata": {},
     "output_type": "execute_result"
    }
   ],
   "source": [
    "mean_absolute_percentage_error(Y_test,y_pred)\n"
   ]
  }
 ],
 "metadata": {
  "kernelspec": {
   "display_name": "Python 3.10.6 64-bit",
   "language": "python",
   "name": "python3"
  },
  "language_info": {
   "codemirror_mode": {
    "name": "ipython",
    "version": 3
   },
   "file_extension": ".py",
   "mimetype": "text/x-python",
   "name": "python",
   "nbconvert_exporter": "python",
   "pygments_lexer": "ipython3",
   "version": "3.10.6"
  },
  "orig_nbformat": 4,
  "vscode": {
   "interpreter": {
    "hash": "c7af7df4901773a0e355da496bf365ae011b1b331a57bbc9908dae1ee21823d7"
   }
  }
 },
 "nbformat": 4,
 "nbformat_minor": 2
}
